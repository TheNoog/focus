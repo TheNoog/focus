{
 "cells": [
  {
   "cell_type": "code",
   "execution_count": 3,
   "metadata": {},
   "outputs": [
    {
     "name": "stdout",
     "output_type": "stream",
     "text": [
      "installing cirq...\n",
      "installed cirq.\n"
     ]
    }
   ],
   "source": [
    "try:\n",
    "    import cirq\n",
    "except ImportError:\n",
    "    print(\"installing cirq...\")\n",
    "    !pip install --quiet cirq\n",
    "    import cirq\n",
    "    print(\"installed cirq.\")\n"
   ]
  },
  {
   "cell_type": "code",
   "execution_count": 4,
   "metadata": {},
   "outputs": [
    {
     "name": "stdout",
     "output_type": "stream",
     "text": [
      "Pick a qubit.\n",
      "Create a circuit that applies a square root of NOT gate, then measures the qubit.\n",
      "Circuit:\n",
      "(0, 0): ───X^0.5───M('m')───\n",
      "Simulate the circuit several times.\n",
      "Results:\n",
      "m=10001011000111111101\n"
     ]
    }
   ],
   "source": [
    "import cirq\n",
    "\n",
    "print(\"Pick a qubit.\")\n",
    "qubit = cirq.GridQubit(0, 0)\n",
    "\n",
    "print(\"Create a circuit that applies a square root of NOT gate, then measures the qubit.\")\n",
    "circuit = cirq.Circuit(cirq.X(qubit) ** 0.5, cirq.measure(qubit, key='m'))\n",
    "print(\"Circuit:\")\n",
    "print(circuit)\n",
    "\n",
    "print(\"Simulate the circuit several times.\")\n",
    "simulator = cirq.Simulator()\n",
    "result = simulator.run(circuit, repetitions=20)\n",
    "print(\"Results:\")\n",
    "print(result)\n"
   ]
  }
 ],
 "metadata": {
  "kernelspec": {
   "display_name": "cirq",
   "language": "python",
   "name": "python3"
  },
  "language_info": {
   "codemirror_mode": {
    "name": "ipython",
    "version": 3
   },
   "file_extension": ".py",
   "mimetype": "text/x-python",
   "name": "python",
   "nbconvert_exporter": "python",
   "pygments_lexer": "ipython3",
   "version": "3.11.4"
  },
  "orig_nbformat": 4
 },
 "nbformat": 4,
 "nbformat_minor": 2
}
