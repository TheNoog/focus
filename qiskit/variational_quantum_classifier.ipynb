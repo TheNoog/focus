{
 "cells": [
  {
   "cell_type": "code",
   "execution_count": 4,
   "metadata": {},
   "outputs": [],
   "source": [
    "!pip install --quiet -r requirements.txt"
   ]
  },
  {
   "cell_type": "code",
   "execution_count": 5,
   "metadata": {},
   "outputs": [
    {
     "name": "stdout",
     "output_type": "stream",
     "text": [
      "Testing accuracy: 0.90\n"
     ]
    }
   ],
   "source": [
    "# https://github.com/qiskit-community/qiskit-machine-learning\n",
    "\n",
    "from qiskit_algorithms.optimizers import COBYLA\n",
    "from qiskit.circuit.library import TwoLocal, ZZFeatureMap\n",
    "from qiskit.utils import algorithm_globals\n",
    "\n",
    "from qiskit_machine_learning.algorithms import VQC\n",
    "from qiskit_machine_learning.datasets import ad_hoc_data\n",
    "\n",
    "# Set the random seed for reproducibility\n",
    "seed = 1376\n",
    "algorithm_globals.random_seed = seed\n",
    "\n",
    "# Use ad hoc data set for training and test data\n",
    "feature_dim = 2  # dimension of each data point\n",
    "training_size = 20\n",
    "test_size = 10\n",
    "\n",
    "# training features, training labels, test features, test labels as np.ndarray,\n",
    "# one hot encoding for labels\n",
    "training_features, training_labels, test_features, test_labels = ad_hoc_data(\n",
    "    training_size=training_size, test_size=test_size, n=feature_dim, gap=0.3\n",
    ")\n",
    "\n",
    "# Create the feature map and ansatz for the VQC algorithm\n",
    "feature_map = ZZFeatureMap(feature_dimension=feature_dim, reps=2, entanglement=\"linear\")\n",
    "ansatz = TwoLocal(feature_map.num_qubits, [\"ry\", \"rz\"], \"cz\", reps=3)\n",
    "\n",
    "# Initialize the VQC algorithm\n",
    "vqc = VQC(\n",
    "    feature_map=feature_map,\n",
    "    ansatz=ansatz,\n",
    "    optimizer=COBYLA(maxiter=100),\n",
    ")\n",
    "\n",
    "# Train the VQC algorithm on the training data\n",
    "vqc.fit(training_features, training_labels)\n",
    "\n",
    "# Calculate the testing accuracy\n",
    "score = vqc.score(test_features, test_labels)\n",
    "print(f\"Testing accuracy: {score:0.2f}\")"
   ]
  },
  {
   "cell_type": "code",
   "execution_count": null,
   "metadata": {},
   "outputs": [],
   "source": []
  }
 ],
 "metadata": {
  "kernelspec": {
   "display_name": "qiskit",
   "language": "python",
   "name": "python3"
  },
  "language_info": {
   "codemirror_mode": {
    "name": "ipython",
    "version": 3
   },
   "file_extension": ".py",
   "mimetype": "text/x-python",
   "name": "python",
   "nbconvert_exporter": "python",
   "pygments_lexer": "ipython3",
   "version": "3.11.4"
  },
  "orig_nbformat": 4
 },
 "nbformat": 4,
 "nbformat_minor": 2
}
