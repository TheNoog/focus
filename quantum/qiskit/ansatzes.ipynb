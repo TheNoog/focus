{
 "cells": [
  {
   "cell_type": "code",
   "execution_count": 2,
   "metadata": {},
   "outputs": [
    {
     "data": {
      "text/html": [
       "<pre style=\"word-wrap: normal;white-space: pre;background: #fff0;line-height: 1.1;font-family: &quot;Courier New&quot;,Courier,monospace\">     ┌───────┐         \n",
       "q_0: ┤ Rz(θ) ├────■────\n",
       "     └───────┘┌───┴───┐\n",
       "q_1: ─────────┤ Rz(θ) ├\n",
       "              └───────┘</pre>"
      ],
      "text/plain": [
       "     ┌───────┐         \n",
       "q_0: ┤ Rz(θ) ├────■────\n",
       "     └───────┘┌───┴───┐\n",
       "q_1: ─────────┤ Rz(θ) ├\n",
       "              └───────┘"
      ]
     },
     "execution_count": 2,
     "metadata": {},
     "output_type": "execute_result"
    }
   ],
   "source": [
    "# https://learn.qiskit.org/course/machine-learning/parameterized-quantum-circuits\n",
    "\n",
    "from qiskit.circuit import QuantumCircuit, Parameter\n",
    "theta = Parameter('θ')\n",
    "\n",
    "qc = QuantumCircuit(2)\n",
    "qc.rz(theta, 0)\n",
    "qc.crz(theta, 0, 1)\n",
    "qc.draw()"
   ]
  }
 ],
 "metadata": {
  "kernelspec": {
   "display_name": "base",
   "language": "python",
   "name": "python3"
  },
  "language_info": {
   "codemirror_mode": {
    "name": "ipython",
    "version": 3
   },
   "file_extension": ".py",
   "mimetype": "text/x-python",
   "name": "python",
   "nbconvert_exporter": "python",
   "pygments_lexer": "ipython3",
   "version": "3.11.3"
  },
  "orig_nbformat": 4
 },
 "nbformat": 4,
 "nbformat_minor": 2
}
