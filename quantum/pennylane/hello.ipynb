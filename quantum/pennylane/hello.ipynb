{
 "cells": [
  {
   "cell_type": "code",
   "execution_count": 1,
   "metadata": {},
   "outputs": [
    {
     "name": "stdout",
     "output_type": "stream",
     "text": [
      "installing pennylane...\n",
      "installed pennylane.\n"
     ]
    }
   ],
   "source": [
    "try:\n",
    "    import pennylane\n",
    "except ImportError:\n",
    "    print(\"installing pennylane...\")\n",
    "    !pip install --quiet pennylane\n",
    "    import pennylane\n",
    "    print(\"installed pennylane.\")\n"
   ]
  },
  {
   "cell_type": "code",
   "execution_count": 2,
   "metadata": {},
   "outputs": [
    {
     "name": "stdout",
     "output_type": "stream",
     "text": [
      "0.8515405859048367\n"
     ]
    }
   ],
   "source": [
    "# https://medium.com/@majeea81/pennylane-qml-hello-world-qubit-rotation-f691a0b51a35\n",
    "import pennylane as qml\n",
    "from pennylane import numpy as np  # When constructing a hybrid quantum/classical computational model with PennyLane, it is important to always import NumPy from PennyLane, not the standard NumPy!\n",
    "\n",
    "# Rotate a qubit\n",
    "\n",
    "# Create a device with one qubit.\n",
    "dev1 = qml.device(\"default.qubit\", wires=1)\n",
    "\n",
    "# Construct the Q node\n",
    "@qml.qnode(dev1)\n",
    "def circuit(params):\n",
    "    qml.RX(params[0], wires=0)\n",
    "    qml.RY(params[1], wires=0)\n",
    "    return qml.expval(qml.PauliZ(0))\n",
    "\n",
    "# Evaluate and call the function with values\n",
    "print(circuit([0.54, 0.12]))"
   ]
  }
 ],
 "metadata": {
  "kernelspec": {
   "display_name": "pennylane",
   "language": "python",
   "name": "python3"
  },
  "language_info": {
   "codemirror_mode": {
    "name": "ipython",
    "version": 3
   },
   "file_extension": ".py",
   "mimetype": "text/x-python",
   "name": "python",
   "nbconvert_exporter": "python",
   "pygments_lexer": "ipython3",
   "version": "3.11.4"
  },
  "orig_nbformat": 4
 },
 "nbformat": 4,
 "nbformat_minor": 2
}
